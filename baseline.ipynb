{
 "cells": [
  {
   "cell_type": "code",
   "execution_count": 1,
   "metadata": {
    "id": "PH1ciUFHcsnj"
   },
   "outputs": [
    {
     "name": "stderr",
     "output_type": "stream",
     "text": [
      "\"cp\" не является внутренней или внешней\n",
      "командой, исполняемой программой или пакетным файлом.\n",
      "\"cp\" не является внутренней или внешней\n",
      "командой, исполняемой программой или пакетным файлом.\n"
     ]
    }
   ],
   "source": [
    "!cp /content/drive/MyDrive/Colab/Data/'Готовые задачи'/Калининград/participants/train/train.csv ./ \n",
    "!cp /content/drive/MyDrive/Colab/Data/'Готовые задачи'/Калининград/participants/test/test.csv ./ \n"
   ]
  },
  {
   "cell_type": "code",
   "execution_count": 2,
   "metadata": {
    "colab": {
     "base_uri": "https://localhost:8080/"
    },
    "id": "SATJhyzmeJZ-",
    "outputId": "e2f8956d-820d-4ee7-a12f-c19fb80c3e87"
   },
   "outputs": [
    {
     "name": "stdout",
     "output_type": "stream",
     "text": [
      "Requirement already satisfied: catboost in f:\\anacondainstall\\lib\\site-packages (1.0.6)\n",
      "Requirement already satisfied: six in f:\\anacondainstall\\lib\\site-packages (from catboost) (1.16.0)\n",
      "Requirement already satisfied: numpy>=1.16.0 in f:\\anacondainstall\\lib\\site-packages (from catboost) (1.20.3)\n",
      "Requirement already satisfied: scipy in f:\\anacondainstall\\lib\\site-packages (from catboost) (1.7.1)\n",
      "Requirement already satisfied: pandas>=0.24.0 in f:\\anacondainstall\\lib\\site-packages (from catboost) (1.3.4)\n",
      "Requirement already satisfied: matplotlib in f:\\anacondainstall\\lib\\site-packages (from catboost) (3.4.3)\n",
      "Requirement already satisfied: graphviz in f:\\anacondainstall\\lib\\site-packages (from catboost) (0.20.1)\n",
      "Requirement already satisfied: plotly in f:\\anacondainstall\\lib\\site-packages (from catboost) (5.10.0)\n",
      "Requirement already satisfied: pytz>=2017.3 in f:\\anacondainstall\\lib\\site-packages (from pandas>=0.24.0->catboost) (2021.3)\n",
      "Requirement already satisfied: python-dateutil>=2.7.3 in f:\\anacondainstall\\lib\\site-packages (from pandas>=0.24.0->catboost) (2.8.2)\n",
      "Requirement already satisfied: kiwisolver>=1.0.1 in f:\\anacondainstall\\lib\\site-packages (from matplotlib->catboost) (1.3.1)\n",
      "Requirement already satisfied: pyparsing>=2.2.1 in f:\\anacondainstall\\lib\\site-packages (from matplotlib->catboost) (3.0.4)\n",
      "Requirement already satisfied: pillow>=6.2.0 in f:\\anacondainstall\\lib\\site-packages (from matplotlib->catboost) (8.4.0)\n",
      "Requirement already satisfied: cycler>=0.10 in f:\\anacondainstall\\lib\\site-packages (from matplotlib->catboost) (0.10.0)\n",
      "Requirement already satisfied: tenacity>=6.2.0 in f:\\anacondainstall\\lib\\site-packages (from plotly->catboost) (8.0.1)\n"
     ]
    }
   ],
   "source": [
    "#Установка catboost\n",
    "!pip install catboost"
   ]
  },
  {
   "cell_type": "code",
   "execution_count": 3,
   "metadata": {
    "id": "E25l8C4adTU4"
   },
   "outputs": [],
   "source": [
    "#import необходимых модулей\n",
    "\n",
    "import pandas as pd\n",
    "from catboost import CatBoostRegressor, Pool\n",
    "from sklearn.model_selection import train_test_split\n",
    "from sklearn.metrics import r2_score"
   ]
  },
  {
   "cell_type": "code",
   "execution_count": 4,
   "metadata": {
    "id": "WdI39lYbcziV"
   },
   "outputs": [],
   "source": [
    "#Считывание данных в DataFrame \n",
    "\n",
    "train = pd.read_csv('train_dataset_train.csv', sep=';', index_col=None, dtype={'PATIENT_SEX':str, 'MKB_CODE':str, 'ADRES':str, 'VISIT_MONTH_YEAR':str, 'AGE_CATEGORY':str, 'PATIENT_ID_COUNT':int})\n",
    "test = pd.read_csv('test_dataset_test.csv', sep=';', index_col=None, dtype={'PATIENT_SEX':str, 'MKB_CODE':str, 'ADRES':str, 'VISIT_MONTH_YEAR':str, 'AGE_CATEGORY':str})"
   ]
  },
  {
   "cell_type": "code",
   "execution_count": 5,
   "metadata": {
    "id": "F36oJ4HKe9fL"
   },
   "outputs": [],
   "source": [
    "#Отделение меток от данных\n",
    "\n",
    "X = train[['PATIENT_SEX', 'MKB_CODE', 'ADRES', 'VISIT_MONTH_YEAR', 'AGE_CATEGORY']]\n",
    "y = train[['PATIENT_ID_COUNT']]"
   ]
  },
  {
   "cell_type": "code",
   "execution_count": 6,
   "metadata": {
    "id": "CzxyqSvQfaPi"
   },
   "outputs": [],
   "source": [
    "#Разделение на train/test для локального тестирования\n",
    "\n",
    "X_train, X_test, y_train, y_test = train_test_split(X, y, test_size=0.10, random_state=1)"
   ]
  },
  {
   "cell_type": "code",
   "execution_count": 7,
   "metadata": {
    "id": "xIv9Jg72dZCP"
   },
   "outputs": [],
   "source": [
    "#Создание объекта данных Pool, плюсы: возможность указать какие признаки являются категориальными\n",
    "\n",
    "pool_train = Pool(X_train, y_train, cat_features = ['PATIENT_SEX', 'MKB_CODE', 'ADRES', 'VISIT_MONTH_YEAR', 'AGE_CATEGORY'])\n",
    "pool_test = Pool(X_test, cat_features = ['PATIENT_SEX', 'MKB_CODE', 'ADRES', 'VISIT_MONTH_YEAR', 'AGE_CATEGORY'])"
   ]
  },
  {
   "cell_type": "code",
   "execution_count": null,
   "metadata": {
    "colab": {
     "base_uri": "https://localhost:8080/"
    },
    "id": "dF-NDYYHgVw_",
    "outputId": "c754d192-192e-463c-dd36-a1772423d4ee"
   },
   "outputs": [
    {
     "name": "stdout",
     "output_type": "stream",
     "text": [
      "Learning rate set to 0.135968\n",
      "0:\tlearn: 56.3036350\ttotal: 4.13s\tremaining: 1h 8m 51s\n",
      "1:\tlearn: 53.1487887\ttotal: 5.93s\tremaining: 49m 21s\n",
      "2:\tlearn: 50.6321509\ttotal: 7.2s\tremaining: 39m 52s\n",
      "3:\tlearn: 48.5731753\ttotal: 8s\tremaining: 33m 12s\n",
      "4:\tlearn: 45.7982893\ttotal: 9.7s\tremaining: 32m 9s\n",
      "5:\tlearn: 43.6755857\ttotal: 10.8s\tremaining: 29m 43s\n",
      "6:\tlearn: 42.4323705\ttotal: 11.6s\tremaining: 27m 29s\n",
      "7:\tlearn: 41.2179312\ttotal: 12.6s\tremaining: 25m 59s\n",
      "8:\tlearn: 39.7870434\ttotal: 13.4s\tremaining: 24m 38s\n",
      "9:\tlearn: 38.6382877\ttotal: 14.7s\tremaining: 24m 13s\n",
      "10:\tlearn: 37.6648353\ttotal: 15.7s\tremaining: 23m 35s\n",
      "11:\tlearn: 36.9294105\ttotal: 16.9s\tremaining: 23m 7s\n",
      "12:\tlearn: 36.3676294\ttotal: 17.6s\tremaining: 22m 18s\n",
      "13:\tlearn: 35.8046421\ttotal: 18.4s\tremaining: 21m 36s\n",
      "14:\tlearn: 35.4646780\ttotal: 19.3s\tremaining: 21m 10s\n",
      "15:\tlearn: 35.0183724\ttotal: 20.3s\tremaining: 20m 49s\n",
      "16:\tlearn: 34.6677822\ttotal: 21.4s\tremaining: 20m 37s\n",
      "17:\tlearn: 34.3367248\ttotal: 22.8s\tremaining: 20m 45s\n",
      "18:\tlearn: 34.0376525\ttotal: 24.3s\tremaining: 20m 56s\n",
      "19:\tlearn: 33.8118682\ttotal: 25.3s\tremaining: 20m 42s\n",
      "20:\tlearn: 33.5494691\ttotal: 27.1s\tremaining: 21m 5s\n",
      "21:\tlearn: 33.2428899\ttotal: 28.6s\tremaining: 21m 12s\n",
      "22:\tlearn: 33.1321326\ttotal: 29.6s\tremaining: 20m 57s\n",
      "23:\tlearn: 32.9873443\ttotal: 30.5s\tremaining: 20m 40s\n",
      "24:\tlearn: 32.8352169\ttotal: 31.5s\tremaining: 20m 29s\n",
      "25:\tlearn: 32.6429660\ttotal: 32.3s\tremaining: 20m 8s\n",
      "26:\tlearn: 32.4965272\ttotal: 33.6s\tremaining: 20m 9s\n",
      "27:\tlearn: 32.2581780\ttotal: 34.6s\tremaining: 19m 59s\n",
      "28:\tlearn: 32.0640641\ttotal: 35.4s\tremaining: 19m 44s\n",
      "29:\tlearn: 31.9879120\ttotal: 36.2s\tremaining: 19m 29s\n",
      "30:\tlearn: 31.8506311\ttotal: 37s\tremaining: 19m 17s\n",
      "31:\tlearn: 31.6233866\ttotal: 39.1s\tremaining: 19m 43s\n",
      "32:\tlearn: 31.4041935\ttotal: 40.3s\tremaining: 19m 39s\n",
      "33:\tlearn: 31.2786374\ttotal: 41.2s\tremaining: 19m 31s\n",
      "34:\tlearn: 31.1457781\ttotal: 42.6s\tremaining: 19m 34s\n",
      "35:\tlearn: 31.0970391\ttotal: 44.1s\tremaining: 19m 40s\n",
      "36:\tlearn: 31.0025952\ttotal: 45s\tremaining: 19m 31s\n",
      "37:\tlearn: 30.9065295\ttotal: 45.9s\tremaining: 19m 21s\n",
      "38:\tlearn: 30.6884655\ttotal: 46.7s\tremaining: 19m 10s\n",
      "39:\tlearn: 30.5348902\ttotal: 47.7s\tremaining: 19m 4s\n",
      "40:\tlearn: 30.3898494\ttotal: 48.5s\tremaining: 18m 55s\n",
      "41:\tlearn: 30.1938468\ttotal: 49.4s\tremaining: 18m 47s\n",
      "42:\tlearn: 30.0759351\ttotal: 50.3s\tremaining: 18m 39s\n",
      "43:\tlearn: 30.0426170\ttotal: 51.2s\tremaining: 18m 31s\n",
      "44:\tlearn: 29.9308729\ttotal: 52.2s\tremaining: 18m 27s\n",
      "45:\tlearn: 29.7176572\ttotal: 53s\tremaining: 18m 19s\n",
      "46:\tlearn: 29.5776158\ttotal: 53.9s\tremaining: 18m 13s\n",
      "47:\tlearn: 29.4029345\ttotal: 54.8s\tremaining: 18m 6s\n",
      "48:\tlearn: 29.2846176\ttotal: 55.8s\tremaining: 18m 2s\n",
      "49:\tlearn: 29.2273297\ttotal: 56.5s\tremaining: 17m 54s\n",
      "50:\tlearn: 29.1217450\ttotal: 57.4s\tremaining: 17m 48s\n",
      "51:\tlearn: 29.0283884\ttotal: 58.6s\tremaining: 17m 47s\n",
      "52:\tlearn: 28.9530833\ttotal: 1m\tremaining: 17m 53s\n",
      "53:\tlearn: 28.8747801\ttotal: 1m 1s\tremaining: 17m 49s\n",
      "54:\tlearn: 28.7998321\ttotal: 1m 1s\tremaining: 17m 43s\n",
      "55:\tlearn: 28.7488068\ttotal: 1m 2s\tremaining: 17m 37s\n",
      "56:\tlearn: 28.6359086\ttotal: 1m 3s\tremaining: 17m 32s\n",
      "57:\tlearn: 28.5745493\ttotal: 1m 4s\tremaining: 17m 27s\n",
      "58:\tlearn: 28.5199658\ttotal: 1m 5s\tremaining: 17m 20s\n",
      "59:\tlearn: 28.4770416\ttotal: 1m 6s\tremaining: 17m 15s\n",
      "60:\tlearn: 28.4392746\ttotal: 1m 6s\tremaining: 17m 9s\n",
      "61:\tlearn: 28.3949241\ttotal: 1m 7s\tremaining: 17m 3s\n",
      "62:\tlearn: 28.3134186\ttotal: 1m 8s\tremaining: 16m 59s\n",
      "63:\tlearn: 28.2810694\ttotal: 1m 9s\tremaining: 16m 54s\n",
      "64:\tlearn: 28.2227677\ttotal: 1m 10s\tremaining: 16m 49s\n",
      "65:\tlearn: 28.2087150\ttotal: 1m 10s\tremaining: 16m 42s\n",
      "66:\tlearn: 28.1245820\ttotal: 1m 11s\tremaining: 16m 38s\n",
      "67:\tlearn: 28.0813371\ttotal: 1m 12s\tremaining: 16m 33s\n",
      "68:\tlearn: 28.0020065\ttotal: 1m 13s\tremaining: 16m 31s\n",
      "69:\tlearn: 27.9809988\ttotal: 1m 14s\tremaining: 16m 30s\n",
      "70:\tlearn: 27.9200502\ttotal: 1m 15s\tremaining: 16m 31s\n",
      "71:\tlearn: 27.8908591\ttotal: 1m 16s\tremaining: 16m 30s\n",
      "72:\tlearn: 27.8605637\ttotal: 1m 17s\tremaining: 16m 25s\n",
      "73:\tlearn: 27.8118634\ttotal: 1m 18s\tremaining: 16m 24s\n",
      "74:\tlearn: 27.7923795\ttotal: 1m 19s\tremaining: 16m 21s\n",
      "75:\tlearn: 27.7347978\ttotal: 1m 20s\tremaining: 16m 18s\n",
      "76:\tlearn: 27.7342959\ttotal: 1m 21s\tremaining: 16m 12s\n",
      "77:\tlearn: 27.7224621\ttotal: 1m 21s\tremaining: 16m 8s\n",
      "78:\tlearn: 27.6608886\ttotal: 1m 22s\tremaining: 16m 4s\n",
      "79:\tlearn: 27.6179719\ttotal: 1m 23s\tremaining: 15m 59s\n",
      "80:\tlearn: 27.5724123\ttotal: 1m 24s\tremaining: 15m 56s\n",
      "81:\tlearn: 27.5204273\ttotal: 1m 25s\tremaining: 15m 52s\n",
      "82:\tlearn: 27.4977703\ttotal: 1m 25s\tremaining: 15m 49s\n",
      "83:\tlearn: 27.4672959\ttotal: 1m 26s\tremaining: 15m 46s\n",
      "84:\tlearn: 27.4417896\ttotal: 1m 27s\tremaining: 15m 44s\n",
      "85:\tlearn: 27.4148636\ttotal: 1m 28s\tremaining: 15m 41s\n",
      "86:\tlearn: 27.3415514\ttotal: 1m 29s\tremaining: 15m 40s\n",
      "87:\tlearn: 27.2607626\ttotal: 1m 30s\tremaining: 15m 39s\n",
      "88:\tlearn: 27.2230649\ttotal: 1m 31s\tremaining: 15m 38s\n",
      "89:\tlearn: 27.2185323\ttotal: 1m 32s\tremaining: 15m 36s\n",
      "90:\tlearn: 27.2080027\ttotal: 1m 33s\tremaining: 15m 34s\n",
      "91:\tlearn: 26.9568879\ttotal: 1m 34s\tremaining: 15m 32s\n",
      "92:\tlearn: 26.9047029\ttotal: 1m 35s\tremaining: 15m 31s\n",
      "93:\tlearn: 26.8665796\ttotal: 1m 36s\tremaining: 15m 29s\n",
      "94:\tlearn: 26.8665715\ttotal: 1m 36s\tremaining: 15m 23s\n",
      "95:\tlearn: 26.8652034\ttotal: 1m 37s\tremaining: 15m 20s\n",
      "96:\tlearn: 26.7836781\ttotal: 1m 38s\tremaining: 15m 19s\n",
      "97:\tlearn: 26.7025114\ttotal: 1m 39s\tremaining: 15m 16s\n",
      "98:\tlearn: 26.6806201\ttotal: 1m 40s\tremaining: 15m 14s\n",
      "99:\tlearn: 26.6530229\ttotal: 1m 41s\tremaining: 15m 11s\n",
      "100:\tlearn: 26.5606316\ttotal: 1m 42s\tremaining: 15m 8s\n",
      "101:\tlearn: 26.5572311\ttotal: 1m 42s\tremaining: 15m 4s\n",
      "102:\tlearn: 26.5572259\ttotal: 1m 43s\tremaining: 14m 58s\n",
      "103:\tlearn: 26.5570187\ttotal: 1m 43s\tremaining: 14m 54s\n",
      "104:\tlearn: 26.5556554\ttotal: 1m 44s\tremaining: 14m 51s\n",
      "105:\tlearn: 26.5157834\ttotal: 1m 45s\tremaining: 14m 51s\n",
      "106:\tlearn: 26.3731155\ttotal: 1m 46s\tremaining: 14m 50s\n",
      "107:\tlearn: 26.3420124\ttotal: 1m 47s\tremaining: 14m 50s\n",
      "108:\tlearn: 26.3288814\ttotal: 1m 48s\tremaining: 14m 47s\n",
      "109:\tlearn: 26.2762706\ttotal: 1m 49s\tremaining: 14m 46s\n",
      "110:\tlearn: 26.1989252\ttotal: 1m 50s\tremaining: 14m 44s\n",
      "111:\tlearn: 26.0630965\ttotal: 1m 51s\tremaining: 14m 41s\n",
      "112:\tlearn: 26.0022592\ttotal: 1m 51s\tremaining: 14m 38s\n",
      "113:\tlearn: 25.9828949\ttotal: 1m 52s\tremaining: 14m 35s\n",
      "114:\tlearn: 25.9340477\ttotal: 1m 53s\tremaining: 14m 33s\n",
      "115:\tlearn: 25.8850406\ttotal: 1m 54s\tremaining: 14m 31s\n",
      "116:\tlearn: 25.8718673\ttotal: 1m 55s\tremaining: 14m 30s\n",
      "117:\tlearn: 25.8286050\ttotal: 1m 56s\tremaining: 14m 28s\n",
      "118:\tlearn: 25.7407196\ttotal: 1m 57s\tremaining: 14m 27s\n",
      "119:\tlearn: 25.6558864\ttotal: 1m 58s\tremaining: 14m 26s\n",
      "120:\tlearn: 25.6383512\ttotal: 1m 58s\tremaining: 14m 24s\n",
      "121:\tlearn: 25.6324900\ttotal: 1m 59s\tremaining: 14m 22s\n",
      "122:\tlearn: 25.6000481\ttotal: 2m\tremaining: 14m 21s\n",
      "123:\tlearn: 25.5673671\ttotal: 2m 1s\tremaining: 14m 20s\n",
      "124:\tlearn: 25.5511035\ttotal: 2m 3s\tremaining: 14m 21s\n",
      "125:\tlearn: 25.5056090\ttotal: 2m 4s\tremaining: 14m 21s\n",
      "126:\tlearn: 25.5019050\ttotal: 2m 5s\tremaining: 14m 19s\n",
      "127:\tlearn: 25.4294762\ttotal: 2m 5s\tremaining: 14m 18s\n",
      "128:\tlearn: 25.3896836\ttotal: 2m 6s\tremaining: 14m 16s\n",
      "129:\tlearn: 25.3610367\ttotal: 2m 7s\tremaining: 14m 14s\n",
      "130:\tlearn: 25.3571845\ttotal: 2m 8s\tremaining: 14m 11s\n",
      "131:\tlearn: 25.3542000\ttotal: 2m 9s\tremaining: 14m 9s\n",
      "132:\tlearn: 25.3207323\ttotal: 2m 9s\tremaining: 14m 7s\n",
      "133:\tlearn: 25.2958689\ttotal: 2m 10s\tremaining: 14m 5s\n",
      "134:\tlearn: 25.2893008\ttotal: 2m 11s\tremaining: 14m 2s\n",
      "135:\tlearn: 25.2004376\ttotal: 2m 12s\tremaining: 13m 59s\n",
      "136:\tlearn: 25.1585354\ttotal: 2m 13s\tremaining: 13m 58s\n",
      "137:\tlearn: 25.1329033\ttotal: 2m 13s\tremaining: 13m 56s\n",
      "138:\tlearn: 25.1024794\ttotal: 2m 14s\tremaining: 13m 54s\n",
      "139:\tlearn: 25.0808136\ttotal: 2m 15s\tremaining: 13m 52s\n",
      "140:\tlearn: 25.0382421\ttotal: 2m 16s\tremaining: 13m 50s\n",
      "141:\tlearn: 25.0096007\ttotal: 2m 17s\tremaining: 13m 49s\n",
      "142:\tlearn: 25.0067104\ttotal: 2m 18s\tremaining: 13m 48s\n",
      "143:\tlearn: 24.9711579\ttotal: 2m 19s\tremaining: 13m 48s\n",
      "144:\tlearn: 24.9610857\ttotal: 2m 20s\tremaining: 13m 47s\n",
      "145:\tlearn: 24.9524164\ttotal: 2m 21s\tremaining: 13m 46s\n",
      "146:\tlearn: 24.9309815\ttotal: 2m 22s\tremaining: 13m 47s\n",
      "147:\tlearn: 24.9027655\ttotal: 2m 23s\tremaining: 13m 46s\n",
      "148:\tlearn: 24.8826199\ttotal: 2m 24s\tremaining: 13m 45s\n",
      "149:\tlearn: 24.8414676\ttotal: 2m 25s\tremaining: 13m 43s\n"
     ]
    },
    {
     "name": "stdout",
     "output_type": "stream",
     "text": [
      "150:\tlearn: 24.8081868\ttotal: 2m 26s\tremaining: 13m 41s\n",
      "151:\tlearn: 24.7799086\ttotal: 2m 26s\tremaining: 13m 39s\n",
      "152:\tlearn: 24.6805486\ttotal: 2m 27s\tremaining: 13m 37s\n",
      "153:\tlearn: 24.6751341\ttotal: 2m 28s\tremaining: 13m 35s\n",
      "154:\tlearn: 24.6675112\ttotal: 2m 29s\tremaining: 13m 33s\n",
      "155:\tlearn: 24.6584901\ttotal: 2m 29s\tremaining: 13m 31s\n",
      "156:\tlearn: 24.6485428\ttotal: 2m 30s\tremaining: 13m 29s\n",
      "157:\tlearn: 24.6390182\ttotal: 2m 31s\tremaining: 13m 28s\n",
      "158:\tlearn: 24.6112478\ttotal: 2m 32s\tremaining: 13m 26s\n",
      "159:\tlearn: 24.5970300\ttotal: 2m 33s\tremaining: 13m 26s\n",
      "160:\tlearn: 24.5882189\ttotal: 2m 34s\tremaining: 13m 27s\n",
      "161:\tlearn: 24.5678503\ttotal: 2m 35s\tremaining: 13m 26s\n",
      "162:\tlearn: 24.5630404\ttotal: 2m 36s\tremaining: 13m 25s\n",
      "163:\tlearn: 24.5589872\ttotal: 2m 37s\tremaining: 13m 23s\n",
      "164:\tlearn: 24.4245192\ttotal: 2m 38s\tremaining: 13m 22s\n",
      "165:\tlearn: 24.4040247\ttotal: 2m 39s\tremaining: 13m 20s\n",
      "166:\tlearn: 24.3949768\ttotal: 2m 40s\tremaining: 13m 18s\n",
      "167:\tlearn: 24.3899209\ttotal: 2m 40s\tremaining: 13m 17s\n",
      "168:\tlearn: 24.3695662\ttotal: 2m 42s\tremaining: 13m 17s\n",
      "169:\tlearn: 24.3606286\ttotal: 2m 43s\tremaining: 13m 18s\n",
      "170:\tlearn: 24.3313893\ttotal: 2m 44s\tremaining: 13m 17s\n",
      "171:\tlearn: 24.3236667\ttotal: 2m 45s\tremaining: 13m 17s\n",
      "172:\tlearn: 24.3194995\ttotal: 2m 46s\tremaining: 13m 15s\n",
      "173:\tlearn: 24.3163105\ttotal: 2m 47s\tremaining: 13m 13s\n",
      "174:\tlearn: 24.2336251\ttotal: 2m 47s\tremaining: 13m 11s\n",
      "175:\tlearn: 24.2062395\ttotal: 2m 48s\tremaining: 13m 10s\n",
      "176:\tlearn: 24.1886320\ttotal: 2m 49s\tremaining: 13m 9s\n",
      "177:\tlearn: 24.1560601\ttotal: 2m 50s\tremaining: 13m 8s\n",
      "178:\tlearn: 24.1127260\ttotal: 2m 51s\tremaining: 13m 7s\n",
      "179:\tlearn: 24.0833142\ttotal: 2m 52s\tremaining: 13m 6s\n",
      "180:\tlearn: 24.0786657\ttotal: 2m 53s\tremaining: 13m 4s\n",
      "181:\tlearn: 24.0681097\ttotal: 2m 54s\tremaining: 13m 2s\n",
      "182:\tlearn: 24.0426889\ttotal: 2m 54s\tremaining: 13m\n",
      "183:\tlearn: 24.0352756\ttotal: 2m 55s\tremaining: 12m 58s\n",
      "184:\tlearn: 24.0348720\ttotal: 2m 56s\tremaining: 12m 56s\n",
      "185:\tlearn: 24.0060938\ttotal: 2m 56s\tremaining: 12m 54s\n",
      "186:\tlearn: 23.9954176\ttotal: 2m 57s\tremaining: 12m 53s\n",
      "187:\tlearn: 23.9536324\ttotal: 2m 58s\tremaining: 12m 51s\n",
      "188:\tlearn: 23.9246903\ttotal: 2m 59s\tremaining: 12m 49s\n",
      "189:\tlearn: 23.9230370\ttotal: 3m\tremaining: 12m 48s\n",
      "190:\tlearn: 23.8975606\ttotal: 3m 1s\tremaining: 12m 46s\n",
      "191:\tlearn: 23.8388167\ttotal: 3m 1s\tremaining: 12m 44s\n",
      "192:\tlearn: 23.8160584\ttotal: 3m 2s\tremaining: 12m 42s\n",
      "193:\tlearn: 23.8021569\ttotal: 3m 3s\tremaining: 12m 41s\n",
      "194:\tlearn: 23.7995206\ttotal: 3m 4s\tremaining: 12m 39s\n",
      "195:\tlearn: 23.7873127\ttotal: 3m 4s\tremaining: 12m 38s\n",
      "196:\tlearn: 23.7794903\ttotal: 3m 5s\tremaining: 12m 36s\n",
      "197:\tlearn: 23.7780365\ttotal: 3m 6s\tremaining: 12m 35s\n",
      "198:\tlearn: 23.7646259\ttotal: 3m 8s\tremaining: 12m 37s\n",
      "199:\tlearn: 23.7284422\ttotal: 3m 9s\tremaining: 12m 38s\n",
      "200:\tlearn: 23.7278571\ttotal: 3m 10s\tremaining: 12m 37s\n",
      "201:\tlearn: 23.7268040\ttotal: 3m 11s\tremaining: 12m 35s\n",
      "202:\tlearn: 23.7266579\ttotal: 3m 12s\tremaining: 12m 34s\n",
      "203:\tlearn: 23.7065465\ttotal: 3m 12s\tremaining: 12m 32s\n",
      "204:\tlearn: 23.6909854\ttotal: 3m 13s\tremaining: 12m 30s\n",
      "205:\tlearn: 23.6497826\ttotal: 3m 14s\tremaining: 12m 29s\n",
      "206:\tlearn: 23.6333827\ttotal: 3m 15s\tremaining: 12m 27s\n",
      "207:\tlearn: 23.6325895\ttotal: 3m 16s\tremaining: 12m 26s\n",
      "208:\tlearn: 23.5506447\ttotal: 3m 16s\tremaining: 12m 24s\n",
      "209:\tlearn: 23.5505540\ttotal: 3m 17s\tremaining: 12m 22s\n",
      "210:\tlearn: 23.5336260\ttotal: 3m 18s\tremaining: 12m 21s\n",
      "211:\tlearn: 23.5016683\ttotal: 3m 19s\tremaining: 12m 20s\n",
      "212:\tlearn: 23.4879229\ttotal: 3m 20s\tremaining: 12m 19s\n",
      "213:\tlearn: 23.4873327\ttotal: 3m 21s\tremaining: 12m 21s\n",
      "214:\tlearn: 23.4558057\ttotal: 3m 23s\tremaining: 12m 22s\n",
      "215:\tlearn: 23.4283155\ttotal: 3m 24s\tremaining: 12m 22s\n",
      "216:\tlearn: 23.3977557\ttotal: 3m 25s\tremaining: 12m 21s\n",
      "217:\tlearn: 23.3889026\ttotal: 3m 26s\tremaining: 12m 20s\n",
      "218:\tlearn: 23.3755409\ttotal: 3m 27s\tremaining: 12m 19s\n",
      "219:\tlearn: 23.3380444\ttotal: 3m 28s\tremaining: 12m 17s\n",
      "220:\tlearn: 23.3198295\ttotal: 3m 28s\tremaining: 12m 15s\n",
      "221:\tlearn: 23.2826733\ttotal: 3m 29s\tremaining: 12m 14s\n",
      "222:\tlearn: 23.2791652\ttotal: 3m 30s\tremaining: 12m 13s\n",
      "223:\tlearn: 23.2621413\ttotal: 3m 31s\tremaining: 12m 12s\n",
      "224:\tlearn: 23.2521866\ttotal: 3m 32s\tremaining: 12m 10s\n",
      "225:\tlearn: 23.2162471\ttotal: 3m 32s\tremaining: 12m 9s\n",
      "226:\tlearn: 23.2061957\ttotal: 3m 33s\tremaining: 12m 7s\n",
      "227:\tlearn: 23.1825409\ttotal: 3m 34s\tremaining: 12m 6s\n",
      "228:\tlearn: 23.1768605\ttotal: 3m 35s\tremaining: 12m 4s\n",
      "229:\tlearn: 23.1579686\ttotal: 3m 36s\tremaining: 12m 3s\n",
      "230:\tlearn: 23.1451433\ttotal: 3m 36s\tremaining: 12m 2s\n",
      "231:\tlearn: 23.1290620\ttotal: 3m 37s\tremaining: 12m 1s\n",
      "232:\tlearn: 23.1173499\ttotal: 3m 38s\tremaining: 12m\n",
      "233:\tlearn: 23.1136328\ttotal: 3m 39s\tremaining: 11m 59s\n",
      "234:\tlearn: 23.1022741\ttotal: 3m 40s\tremaining: 11m 58s\n",
      "235:\tlearn: 23.0882459\ttotal: 3m 41s\tremaining: 11m 57s\n",
      "236:\tlearn: 23.0882013\ttotal: 3m 42s\tremaining: 11m 55s\n",
      "237:\tlearn: 23.0833311\ttotal: 3m 43s\tremaining: 11m 54s\n",
      "238:\tlearn: 23.0727106\ttotal: 3m 43s\tremaining: 11m 52s\n",
      "239:\tlearn: 23.0717231\ttotal: 3m 44s\tremaining: 11m 50s\n",
      "240:\tlearn: 23.0647398\ttotal: 3m 45s\tremaining: 11m 49s\n",
      "241:\tlearn: 23.0582321\ttotal: 3m 46s\tremaining: 11m 48s\n",
      "242:\tlearn: 23.0549781\ttotal: 3m 46s\tremaining: 11m 46s\n",
      "243:\tlearn: 23.0499723\ttotal: 3m 47s\tremaining: 11m 45s\n",
      "244:\tlearn: 23.0449818\ttotal: 3m 48s\tremaining: 11m 43s\n",
      "245:\tlearn: 23.0383798\ttotal: 3m 49s\tremaining: 11m 42s\n",
      "246:\tlearn: 23.0157840\ttotal: 3m 50s\tremaining: 11m 41s\n",
      "247:\tlearn: 23.0069088\ttotal: 3m 50s\tremaining: 11m 39s\n",
      "248:\tlearn: 22.9935621\ttotal: 3m 51s\tremaining: 11m 38s\n",
      "249:\tlearn: 22.9650150\ttotal: 3m 52s\tremaining: 11m 37s\n",
      "250:\tlearn: 22.9375636\ttotal: 3m 53s\tremaining: 11m 36s\n",
      "251:\tlearn: 22.9315226\ttotal: 3m 54s\tremaining: 11m 36s\n",
      "252:\tlearn: 22.9282942\ttotal: 3m 55s\tremaining: 11m 35s\n",
      "253:\tlearn: 22.9140736\ttotal: 3m 56s\tremaining: 11m 34s\n",
      "254:\tlearn: 22.9001627\ttotal: 3m 57s\tremaining: 11m 33s\n",
      "255:\tlearn: 22.8956856\ttotal: 3m 58s\tremaining: 11m 32s\n",
      "256:\tlearn: 22.8736418\ttotal: 3m 59s\tremaining: 11m 31s\n",
      "257:\tlearn: 22.8575298\ttotal: 3m 59s\tremaining: 11m 30s\n",
      "258:\tlearn: 22.8507315\ttotal: 4m\tremaining: 11m 28s\n",
      "259:\tlearn: 22.8206563\ttotal: 4m 1s\tremaining: 11m 26s\n",
      "260:\tlearn: 22.8174259\ttotal: 4m 2s\tremaining: 11m 25s\n",
      "261:\tlearn: 22.8100215\ttotal: 4m 2s\tremaining: 11m 24s\n",
      "262:\tlearn: 22.7948653\ttotal: 4m 3s\tremaining: 11m 22s\n",
      "263:\tlearn: 22.7915040\ttotal: 4m 4s\tremaining: 11m 21s\n",
      "264:\tlearn: 22.7432183\ttotal: 4m 5s\tremaining: 11m 20s\n",
      "265:\tlearn: 22.7085824\ttotal: 4m 6s\tremaining: 11m 19s\n",
      "266:\tlearn: 22.6683858\ttotal: 4m 7s\tremaining: 11m 18s\n",
      "267:\tlearn: 22.6467599\ttotal: 4m 7s\tremaining: 11m 16s\n",
      "268:\tlearn: 22.6311198\ttotal: 4m 8s\tremaining: 11m 15s\n",
      "269:\tlearn: 22.6066763\ttotal: 4m 9s\tremaining: 11m 14s\n",
      "270:\tlearn: 22.5957025\ttotal: 4m 10s\tremaining: 11m 13s\n",
      "271:\tlearn: 22.5855963\ttotal: 4m 11s\tremaining: 11m 12s\n",
      "272:\tlearn: 22.5830569\ttotal: 4m 12s\tremaining: 11m 12s\n",
      "273:\tlearn: 22.4888922\ttotal: 4m 13s\tremaining: 11m 11s\n",
      "274:\tlearn: 22.4838565\ttotal: 4m 14s\tremaining: 11m 10s\n",
      "275:\tlearn: 22.4753194\ttotal: 4m 15s\tremaining: 11m 10s\n",
      "276:\tlearn: 22.4676485\ttotal: 4m 16s\tremaining: 11m 9s\n",
      "277:\tlearn: 22.4627546\ttotal: 4m 17s\tremaining: 11m 8s\n",
      "278:\tlearn: 22.4560039\ttotal: 4m 18s\tremaining: 11m 6s\n",
      "279:\tlearn: 22.4530548\ttotal: 4m 18s\tremaining: 11m 5s\n",
      "280:\tlearn: 22.4524126\ttotal: 4m 19s\tremaining: 11m 4s\n",
      "281:\tlearn: 22.4311672\ttotal: 4m 21s\tremaining: 11m 5s\n",
      "282:\tlearn: 22.4231997\ttotal: 4m 23s\tremaining: 11m 7s\n",
      "283:\tlearn: 22.4183900\ttotal: 4m 24s\tremaining: 11m 7s\n",
      "284:\tlearn: 22.4108278\ttotal: 4m 26s\tremaining: 11m 7s\n",
      "285:\tlearn: 22.3889594\ttotal: 4m 27s\tremaining: 11m 7s\n",
      "286:\tlearn: 22.3664612\ttotal: 4m 28s\tremaining: 11m 7s\n",
      "287:\tlearn: 22.3552741\ttotal: 4m 29s\tremaining: 11m 6s\n",
      "288:\tlearn: 22.3398192\ttotal: 4m 30s\tremaining: 11m 5s\n",
      "289:\tlearn: 22.3346633\ttotal: 4m 31s\tremaining: 11m 3s\n",
      "290:\tlearn: 22.3313124\ttotal: 4m 32s\tremaining: 11m 2s\n",
      "291:\tlearn: 22.3260032\ttotal: 4m 32s\tremaining: 11m 1s\n",
      "292:\tlearn: 22.3045371\ttotal: 4m 33s\tremaining: 11m\n",
      "293:\tlearn: 22.3014671\ttotal: 4m 34s\tremaining: 10m 59s\n",
      "294:\tlearn: 22.2530075\ttotal: 4m 35s\tremaining: 10m 58s\n",
      "295:\tlearn: 22.2524239\ttotal: 4m 36s\tremaining: 10m 57s\n",
      "296:\tlearn: 22.2501571\ttotal: 4m 37s\tremaining: 10m 56s\n",
      "297:\tlearn: 22.2448628\ttotal: 4m 38s\tremaining: 10m 55s\n"
     ]
    },
    {
     "name": "stdout",
     "output_type": "stream",
     "text": [
      "298:\tlearn: 22.2350942\ttotal: 4m 38s\tremaining: 10m 53s\n",
      "299:\tlearn: 22.2297976\ttotal: 4m 39s\tremaining: 10m 52s\n",
      "300:\tlearn: 22.2160637\ttotal: 4m 40s\tremaining: 10m 52s\n",
      "301:\tlearn: 22.2024533\ttotal: 4m 41s\tremaining: 10m 51s\n",
      "302:\tlearn: 22.1932683\ttotal: 4m 42s\tremaining: 10m 50s\n",
      "303:\tlearn: 22.1878569\ttotal: 4m 43s\tremaining: 10m 49s\n",
      "304:\tlearn: 22.1575928\ttotal: 4m 44s\tremaining: 10m 48s\n",
      "305:\tlearn: 22.1571494\ttotal: 4m 45s\tremaining: 10m 47s\n",
      "306:\tlearn: 22.1378909\ttotal: 4m 46s\tremaining: 10m 46s\n"
     ]
    }
   ],
   "source": [
    "#Объявление CatBoostRegressor и обучение\n",
    "\n",
    "model = CatBoostRegressor(task_type='CPU')\n",
    "model.fit(pool_train)"
   ]
  },
  {
   "cell_type": "code",
   "execution_count": null,
   "metadata": {
    "id": "5z1XLMyLhKfg"
   },
   "outputs": [],
   "source": [
    "#Получение ответов модели на тестовой выборке в локальном тестировании \n",
    "\n",
    "y_pred = model.predict(pool_test)"
   ]
  },
  {
   "cell_type": "code",
   "execution_count": null,
   "metadata": {
    "colab": {
     "base_uri": "https://localhost:8080/"
    },
    "id": "9H47fZoodgoP",
    "outputId": "459bc7e3-80c6-484e-a632-6f7222cb3749"
   },
   "outputs": [],
   "source": [
    "#На локальном тестировании модель выдаёт такой результат\n",
    "\n",
    "print(\"Значение метрики R2 на test: \", r2_score(y_test, y_pred))"
   ]
  },
  {
   "cell_type": "code",
   "execution_count": null,
   "metadata": {
    "colab": {
     "base_uri": "https://localhost:8080/"
    },
    "id": "8xtAbnFzh55G",
    "outputId": "59c4b647-3bbd-41a6-9934-d1ac7f50a2d1"
   },
   "outputs": [],
   "source": [
    "#Формируем sample_solution. В обучении используется весь train, ответы получаем на test\n",
    "\n",
    "pool_train_solution = Pool(X, y, cat_features = ['PATIENT_SEX', 'MKB_CODE', 'ADRES', 'VISIT_MONTH_YEAR', 'AGE_CATEGORY'])\n",
    "pool_test_solution = Pool(test, cat_features = ['PATIENT_SEX', 'MKB_CODE', 'ADRES', 'VISIT_MONTH_YEAR', 'AGE_CATEGORY'])\n",
    "\n",
    "model_solution = CatBoostRegressor(task_type='CPU')\n",
    "model_solution.fit(pool_train_solution)"
   ]
  },
  {
   "cell_type": "code",
   "execution_count": null,
   "metadata": {
    "id": "v7wpw4hCiN2H"
   },
   "outputs": [],
   "source": [
    "#Получение ответов\n",
    "\n",
    "y_pred_solution = model.predict(pool_test_solution)"
   ]
  },
  {
   "cell_type": "code",
   "execution_count": null,
   "metadata": {
    "colab": {
     "base_uri": "https://localhost:8080/"
    },
    "id": "_axTBybcjVgF",
    "outputId": "36359a08-0350-4269-d50d-0cc377b3ced1"
   },
   "outputs": [],
   "source": [
    "#Вот так они выглядят\n",
    "\n",
    "y_pred_solution.astype(int)"
   ]
  },
  {
   "cell_type": "code",
   "execution_count": null,
   "metadata": {
    "id": "shIk32Vxi-MJ"
   },
   "outputs": [],
   "source": [
    "#Формируем sample_solution для отправки на платформу\n",
    "\n",
    "test['PATIENT_ID_COUNT'] = y_pred_solution.astype(int)"
   ]
  },
  {
   "cell_type": "code",
   "execution_count": null,
   "metadata": {
    "id": "36FP3OirjB0n"
   },
   "outputs": [],
   "source": [
    "#Сохраняем в csv файл\n",
    " \n",
    "test.to_csv('sample_solution_v2.csv', sep=';', index=None)"
   ]
  },
  {
   "cell_type": "code",
   "execution_count": null,
   "metadata": {},
   "outputs": [],
   "source": [
    "import os\n",
    "cwd = os.getcwd()\n",
    "print(cwd)"
   ]
  },
  {
   "cell_type": "code",
   "execution_count": null,
   "metadata": {},
   "outputs": [],
   "source": [
    "test.to_csv('sample_solution_v2_2.csv', sep=';', index=None)"
   ]
  },
  {
   "cell_type": "code",
   "execution_count": null,
   "metadata": {},
   "outputs": [],
   "source": []
  }
 ],
 "metadata": {
  "accelerator": "GPU",
  "colab": {
   "collapsed_sections": [],
   "name": "baseline.ipynb",
   "provenance": []
  },
  "gpuClass": "standard",
  "kernelspec": {
   "display_name": "Python 3 (ipykernel)",
   "language": "python",
   "name": "python3"
  },
  "language_info": {
   "codemirror_mode": {
    "name": "ipython",
    "version": 3
   },
   "file_extension": ".py",
   "mimetype": "text/x-python",
   "name": "python",
   "nbconvert_exporter": "python",
   "pygments_lexer": "ipython3",
   "version": "3.9.7"
  }
 },
 "nbformat": 4,
 "nbformat_minor": 1
}
