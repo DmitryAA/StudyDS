{
 "cells": [
  {
   "cell_type": "code",
   "execution_count": 5,
   "id": "5c569c23",
   "metadata": {},
   "outputs": [],
   "source": [
    "import pandas as pd\n",
    "import os\n",
    "\n",
    "pd.set_option('display.max_column', None)\n"
   ]
  },
  {
   "cell_type": "code",
   "execution_count": 6,
   "id": "5d0bc113",
   "metadata": {},
   "outputs": [],
   "source": [
    "analize_data = pd.read_csv(\"train.csv\")\n"
   ]
  },
  {
   "cell_type": "code",
   "execution_count": 7,
   "id": "e1d56e8e",
   "metadata": {},
   "outputs": [
    {
     "data": {
      "text/html": [
       "<div>\n",
       "<style scoped>\n",
       "    .dataframe tbody tr th:only-of-type {\n",
       "        vertical-align: middle;\n",
       "    }\n",
       "\n",
       "    .dataframe tbody tr th {\n",
       "        vertical-align: top;\n",
       "    }\n",
       "\n",
       "    .dataframe thead th {\n",
       "        text-align: right;\n",
       "    }\n",
       "</style>\n",
       "<table border=\"1\" class=\"dataframe\">\n",
       "  <thead>\n",
       "    <tr style=\"text-align: right;\">\n",
       "      <th></th>\n",
       "      <th>PassengerId</th>\n",
       "      <th>Survived</th>\n",
       "      <th>Pclass</th>\n",
       "      <th>Name</th>\n",
       "      <th>Sex</th>\n",
       "      <th>Age</th>\n",
       "      <th>SibSp</th>\n",
       "      <th>Parch</th>\n",
       "      <th>Ticket</th>\n",
       "      <th>Fare</th>\n",
       "      <th>Cabin</th>\n",
       "      <th>Embarked</th>\n",
       "    </tr>\n",
       "  </thead>\n",
       "  <tbody>\n",
       "    <tr>\n",
       "      <th>0</th>\n",
       "      <td>0</td>\n",
       "      <td>1</td>\n",
       "      <td>1</td>\n",
       "      <td>Oconnor, Frankie</td>\n",
       "      <td>male</td>\n",
       "      <td>NaN</td>\n",
       "      <td>2</td>\n",
       "      <td>0</td>\n",
       "      <td>209245</td>\n",
       "      <td>27.14</td>\n",
       "      <td>C12239</td>\n",
       "      <td>S</td>\n",
       "    </tr>\n",
       "    <tr>\n",
       "      <th>1</th>\n",
       "      <td>1</td>\n",
       "      <td>0</td>\n",
       "      <td>3</td>\n",
       "      <td>Bryan, Drew</td>\n",
       "      <td>male</td>\n",
       "      <td>NaN</td>\n",
       "      <td>0</td>\n",
       "      <td>0</td>\n",
       "      <td>27323</td>\n",
       "      <td>13.35</td>\n",
       "      <td>NaN</td>\n",
       "      <td>S</td>\n",
       "    </tr>\n",
       "    <tr>\n",
       "      <th>2</th>\n",
       "      <td>2</td>\n",
       "      <td>0</td>\n",
       "      <td>3</td>\n",
       "      <td>Owens, Kenneth</td>\n",
       "      <td>male</td>\n",
       "      <td>0.33</td>\n",
       "      <td>1</td>\n",
       "      <td>2</td>\n",
       "      <td>CA 457703</td>\n",
       "      <td>71.29</td>\n",
       "      <td>NaN</td>\n",
       "      <td>S</td>\n",
       "    </tr>\n",
       "    <tr>\n",
       "      <th>3</th>\n",
       "      <td>3</td>\n",
       "      <td>0</td>\n",
       "      <td>3</td>\n",
       "      <td>Kramer, James</td>\n",
       "      <td>male</td>\n",
       "      <td>19.00</td>\n",
       "      <td>0</td>\n",
       "      <td>0</td>\n",
       "      <td>A. 10866</td>\n",
       "      <td>13.04</td>\n",
       "      <td>NaN</td>\n",
       "      <td>S</td>\n",
       "    </tr>\n",
       "    <tr>\n",
       "      <th>4</th>\n",
       "      <td>4</td>\n",
       "      <td>1</td>\n",
       "      <td>3</td>\n",
       "      <td>Bond, Michael</td>\n",
       "      <td>male</td>\n",
       "      <td>25.00</td>\n",
       "      <td>0</td>\n",
       "      <td>0</td>\n",
       "      <td>427635</td>\n",
       "      <td>7.76</td>\n",
       "      <td>NaN</td>\n",
       "      <td>S</td>\n",
       "    </tr>\n",
       "  </tbody>\n",
       "</table>\n",
       "</div>"
      ],
      "text/plain": [
       "   PassengerId  Survived  Pclass              Name   Sex    Age  SibSp  Parch  \\\n",
       "0            0         1       1  Oconnor, Frankie  male    NaN      2      0   \n",
       "1            1         0       3       Bryan, Drew  male    NaN      0      0   \n",
       "2            2         0       3    Owens, Kenneth  male   0.33      1      2   \n",
       "3            3         0       3     Kramer, James  male  19.00      0      0   \n",
       "4            4         1       3     Bond, Michael  male  25.00      0      0   \n",
       "\n",
       "      Ticket   Fare   Cabin Embarked  \n",
       "0     209245  27.14  C12239        S  \n",
       "1      27323  13.35     NaN        S  \n",
       "2  CA 457703  71.29     NaN        S  \n",
       "3   A. 10866  13.04     NaN        S  \n",
       "4     427635   7.76     NaN        S  "
      ]
     },
     "execution_count": 7,
     "metadata": {},
     "output_type": "execute_result"
    }
   ],
   "source": [
    "analize_data.head()\n"
   ]
  },
  {
   "cell_type": "code",
   "execution_count": 8,
   "id": "94b67ad3",
   "metadata": {},
   "outputs": [
    {
     "data": {
      "text/plain": [
       "0    male\n",
       "1    male\n",
       "2    male\n",
       "3    male\n",
       "4    male\n",
       "Name: Sex, dtype: object"
      ]
     },
     "execution_count": 8,
     "metadata": {},
     "output_type": "execute_result"
    }
   ],
   "source": [
    "analize_data[\"Sex\"].head()"
   ]
  },
  {
   "cell_type": "code",
   "execution_count": 12,
   "id": "bf4c96e7",
   "metadata": {},
   "outputs": [
    {
     "data": {
      "text/plain": [
       "<pandas.core.groupby.generic.SeriesGroupBy object at 0x0000019F24A05220>"
      ]
     },
     "execution_count": 12,
     "metadata": {},
     "output_type": "execute_result"
    }
   ],
   "source": [
    "analize_data[\"Sex\"].groupby(analize_data[\"Sex\"])"
   ]
  },
  {
   "cell_type": "code",
   "execution_count": 13,
   "id": "a226fe18",
   "metadata": {},
   "outputs": [
    {
     "data": {
      "text/plain": [
       "<pandas.core.groupby.generic.SeriesGroupBy object at 0x0000019F24A05310>"
      ]
     },
     "execution_count": 13,
     "metadata": {},
     "output_type": "execute_result"
    }
   ],
   "source": [
    "analize_data[\"Sex\"].groupby(analize_data[\"Sex\"])"
   ]
  },
  {
   "cell_type": "code",
   "execution_count": 14,
   "id": "67b61567",
   "metadata": {},
   "outputs": [
    {
     "data": {
      "text/plain": [
       "87.0"
      ]
     },
     "execution_count": 14,
     "metadata": {},
     "output_type": "execute_result"
    }
   ],
   "source": [
    "analize_data[\"Age\"].max()\n"
   ]
  },
  {
   "cell_type": "code",
   "execution_count": 18,
   "id": "57a8f913",
   "metadata": {},
   "outputs": [
    {
     "data": {
      "text/plain": [
       "PassengerId    0\n",
       "Survived       0\n",
       "Pclass         0\n",
       "Name           0\n",
       "Sex            0\n",
       "Age            0\n",
       "SibSp          0\n",
       "Parch          0\n",
       "Ticket         0\n",
       "Fare           0\n",
       "Cabin          0\n",
       "Embarked       0\n",
       "dtype: int64"
      ]
     },
     "execution_count": 18,
     "metadata": {},
     "output_type": "execute_result"
    }
   ],
   "source": [
    "analize_data[analize_data[\"Age\"]=='NaN'].count()"
   ]
  },
  {
   "cell_type": "code",
   "execution_count": 17,
   "id": "d4f45e4e",
   "metadata": {},
   "outputs": [
    {
     "name": "stderr",
     "output_type": "stream",
     "text": [
      "C:\\Users\\Dmitry\\AppData\\Local\\Temp/ipykernel_4936/2618198892.py:1: FutureWarning: Dropping of nuisance columns in DataFrame reductions (with 'numeric_only=None') is deprecated; in a future version this will raise TypeError.  Select only valid columns before calling the reduction.\n",
      "  analize_data.mean()\n"
     ]
    },
    {
     "data": {
      "text/plain": [
       "PassengerId    49999.500000\n",
       "Survived           0.427740\n",
       "Pclass             2.106910\n",
       "Age               38.355472\n",
       "SibSp              0.397690\n",
       "Parch              0.454560\n",
       "Fare              43.929330\n",
       "dtype: float64"
      ]
     },
     "execution_count": 17,
     "metadata": {},
     "output_type": "execute_result"
    }
   ],
   "source": [
    "analize_data[\"Age\"].mean()"
   ]
  },
  {
   "cell_type": "code",
   "execution_count": 21,
   "id": "8e91fd4a",
   "metadata": {},
   "outputs": [
    {
     "data": {
      "text/plain": [
       "PassengerId    0\n",
       "Survived       0\n",
       "Pclass         0\n",
       "Name           0\n",
       "Sex            0\n",
       "Age            0\n",
       "SibSp          0\n",
       "Parch          0\n",
       "Ticket         0\n",
       "Fare           0\n",
       "Cabin          0\n",
       "Embarked       0\n",
       "dtype: int64"
      ]
     },
     "execution_count": 21,
     "metadata": {},
     "output_type": "execute_result"
    }
   ],
   "source": [
    "analize_data[analize_data[\"Cabin\"]=='NaN'].count()"
   ]
  },
  {
   "cell_type": "code",
   "execution_count": 22,
   "id": "b582d829",
   "metadata": {},
   "outputs": [
    {
     "data": {
      "text/plain": [
       "PassengerId    0\n",
       "Survived       0\n",
       "Pclass         0\n",
       "Name           0\n",
       "Sex            0\n",
       "Age            0\n",
       "SibSp          0\n",
       "Parch          0\n",
       "Ticket         0\n",
       "Fare           0\n",
       "Cabin          0\n",
       "Embarked       0\n",
       "dtype: int64"
      ]
     },
     "execution_count": 22,
     "metadata": {},
     "output_type": "execute_result"
    }
   ],
   "source": [
    "analize_data[analize_data[\"Pclass\"]==0].count()\n",
    "\n"
   ]
  },
  {
   "cell_type": "code",
   "execution_count": 23,
   "id": "4a5e031d",
   "metadata": {},
   "outputs": [
    {
     "data": {
      "text/plain": [
       "PassengerId    30315\n",
       "Survived       30315\n",
       "Pclass         30315\n",
       "Name           30315\n",
       "Sex            30315\n",
       "Age            29353\n",
       "SibSp          30315\n",
       "Parch          30315\n",
       "Ticket         30288\n",
       "Fare           30275\n",
       "Cabin          26463\n",
       "Embarked       30229\n",
       "dtype: int64"
      ]
     },
     "execution_count": 23,
     "metadata": {},
     "output_type": "execute_result"
    }
   ],
   "source": [
    "analize_data[analize_data[\"Pclass\"]==1].count()\n"
   ]
  },
  {
   "cell_type": "code",
   "execution_count": 24,
   "id": "a9da0463",
   "metadata": {},
   "outputs": [
    {
     "data": {
      "text/plain": [
       "PassengerId    28679\n",
       "Survived       28679\n",
       "Pclass         28679\n",
       "Name           28679\n",
       "Sex            28679\n",
       "Age            27731\n",
       "SibSp          28679\n",
       "Parch          28679\n",
       "Ticket         27855\n",
       "Fare           28637\n",
       "Cabin           3520\n",
       "Embarked       28609\n",
       "dtype: int64"
      ]
     },
     "execution_count": 24,
     "metadata": {},
     "output_type": "execute_result"
    }
   ],
   "source": [
    "analize_data[analize_data[\"Pclass\"]==2].count()\n"
   ]
  },
  {
   "cell_type": "code",
   "execution_count": 25,
   "id": "c85a657f",
   "metadata": {},
   "outputs": [
    {
     "data": {
      "text/plain": [
       "PassengerId    41006\n",
       "Survived       41006\n",
       "Pclass         41006\n",
       "Name           41006\n",
       "Sex            41006\n",
       "Age            39624\n",
       "SibSp          41006\n",
       "Parch          41006\n",
       "Ticket         37234\n",
       "Fare           40954\n",
       "Cabin           2151\n",
       "Embarked       40912\n",
       "dtype: int64"
      ]
     },
     "execution_count": 25,
     "metadata": {},
     "output_type": "execute_result"
    }
   ],
   "source": [
    "analize_data[analize_data[\"Pclass\"]==3].count()"
   ]
  },
  {
   "cell_type": "code",
   "execution_count": 26,
   "id": "1e8e834d",
   "metadata": {},
   "outputs": [
    {
     "data": {
      "text/plain": [
       "PassengerId    0\n",
       "Survived       0\n",
       "Pclass         0\n",
       "Name           0\n",
       "Sex            0\n",
       "Age            0\n",
       "SibSp          0\n",
       "Parch          0\n",
       "Ticket         0\n",
       "Fare           0\n",
       "Cabin          0\n",
       "Embarked       0\n",
       "dtype: int64"
      ]
     },
     "execution_count": 26,
     "metadata": {},
     "output_type": "execute_result"
    }
   ],
   "source": [
    "analize_data[analize_data[\"Pclass\"]==4].count()"
   ]
  },
  {
   "cell_type": "code",
   "execution_count": 28,
   "id": "a29f5b3c",
   "metadata": {},
   "outputs": [
    {
     "data": {
      "text/html": [
       "<div>\n",
       "<style scoped>\n",
       "    .dataframe tbody tr th:only-of-type {\n",
       "        vertical-align: middle;\n",
       "    }\n",
       "\n",
       "    .dataframe tbody tr th {\n",
       "        vertical-align: top;\n",
       "    }\n",
       "\n",
       "    .dataframe thead th {\n",
       "        text-align: right;\n",
       "    }\n",
       "</style>\n",
       "<table border=\"1\" class=\"dataframe\">\n",
       "  <thead>\n",
       "    <tr style=\"text-align: right;\">\n",
       "      <th></th>\n",
       "      <th>PassengerId</th>\n",
       "      <th>Survived</th>\n",
       "      <th>Pclass</th>\n",
       "      <th>Name</th>\n",
       "      <th>Sex</th>\n",
       "      <th>Age</th>\n",
       "      <th>SibSp</th>\n",
       "      <th>Parch</th>\n",
       "      <th>Ticket</th>\n",
       "      <th>Fare</th>\n",
       "      <th>Cabin</th>\n",
       "      <th>Embarked</th>\n",
       "    </tr>\n",
       "  </thead>\n",
       "  <tbody>\n",
       "    <tr>\n",
       "      <th>1</th>\n",
       "      <td>1</td>\n",
       "      <td>0</td>\n",
       "      <td>3</td>\n",
       "      <td>Bryan, Drew</td>\n",
       "      <td>male</td>\n",
       "      <td>NaN</td>\n",
       "      <td>0</td>\n",
       "      <td>0</td>\n",
       "      <td>27323</td>\n",
       "      <td>13.35</td>\n",
       "      <td>NaN</td>\n",
       "      <td>S</td>\n",
       "    </tr>\n",
       "    <tr>\n",
       "      <th>2</th>\n",
       "      <td>2</td>\n",
       "      <td>0</td>\n",
       "      <td>3</td>\n",
       "      <td>Owens, Kenneth</td>\n",
       "      <td>male</td>\n",
       "      <td>0.33</td>\n",
       "      <td>1</td>\n",
       "      <td>2</td>\n",
       "      <td>CA 457703</td>\n",
       "      <td>71.29</td>\n",
       "      <td>NaN</td>\n",
       "      <td>S</td>\n",
       "    </tr>\n",
       "    <tr>\n",
       "      <th>3</th>\n",
       "      <td>3</td>\n",
       "      <td>0</td>\n",
       "      <td>3</td>\n",
       "      <td>Kramer, James</td>\n",
       "      <td>male</td>\n",
       "      <td>19.00</td>\n",
       "      <td>0</td>\n",
       "      <td>0</td>\n",
       "      <td>A. 10866</td>\n",
       "      <td>13.04</td>\n",
       "      <td>NaN</td>\n",
       "      <td>S</td>\n",
       "    </tr>\n",
       "    <tr>\n",
       "      <th>4</th>\n",
       "      <td>4</td>\n",
       "      <td>1</td>\n",
       "      <td>3</td>\n",
       "      <td>Bond, Michael</td>\n",
       "      <td>male</td>\n",
       "      <td>25.00</td>\n",
       "      <td>0</td>\n",
       "      <td>0</td>\n",
       "      <td>427635</td>\n",
       "      <td>7.76</td>\n",
       "      <td>NaN</td>\n",
       "      <td>S</td>\n",
       "    </tr>\n",
       "    <tr>\n",
       "      <th>6</th>\n",
       "      <td>6</td>\n",
       "      <td>0</td>\n",
       "      <td>3</td>\n",
       "      <td>Conway, Jose</td>\n",
       "      <td>male</td>\n",
       "      <td>7.00</td>\n",
       "      <td>0</td>\n",
       "      <td>0</td>\n",
       "      <td>A/5</td>\n",
       "      <td>9.77</td>\n",
       "      <td>NaN</td>\n",
       "      <td>S</td>\n",
       "    </tr>\n",
       "    <tr>\n",
       "      <th>7</th>\n",
       "      <td>7</td>\n",
       "      <td>1</td>\n",
       "      <td>3</td>\n",
       "      <td>Werner, Linda</td>\n",
       "      <td>female</td>\n",
       "      <td>6.00</td>\n",
       "      <td>1</td>\n",
       "      <td>2</td>\n",
       "      <td>434426</td>\n",
       "      <td>31.50</td>\n",
       "      <td>NaN</td>\n",
       "      <td>S</td>\n",
       "    </tr>\n",
       "    <tr>\n",
       "      <th>10</th>\n",
       "      <td>10</td>\n",
       "      <td>0</td>\n",
       "      <td>3</td>\n",
       "      <td>Nichols, William</td>\n",
       "      <td>male</td>\n",
       "      <td>31.00</td>\n",
       "      <td>0</td>\n",
       "      <td>0</td>\n",
       "      <td>459690</td>\n",
       "      <td>8.06</td>\n",
       "      <td>NaN</td>\n",
       "      <td>S</td>\n",
       "    </tr>\n",
       "    <tr>\n",
       "      <th>12</th>\n",
       "      <td>12</td>\n",
       "      <td>0</td>\n",
       "      <td>3</td>\n",
       "      <td>Stewart, Pat</td>\n",
       "      <td>male</td>\n",
       "      <td>36.00</td>\n",
       "      <td>0</td>\n",
       "      <td>0</td>\n",
       "      <td>434108</td>\n",
       "      <td>9.34</td>\n",
       "      <td>C8674</td>\n",
       "      <td>S</td>\n",
       "    </tr>\n",
       "    <tr>\n",
       "      <th>15</th>\n",
       "      <td>15</td>\n",
       "      <td>1</td>\n",
       "      <td>3</td>\n",
       "      <td>Estrada, Nancy</td>\n",
       "      <td>female</td>\n",
       "      <td>57.00</td>\n",
       "      <td>0</td>\n",
       "      <td>0</td>\n",
       "      <td>A/S 53862</td>\n",
       "      <td>9.31</td>\n",
       "      <td>NaN</td>\n",
       "      <td>S</td>\n",
       "    </tr>\n",
       "    <tr>\n",
       "      <th>16</th>\n",
       "      <td>16</td>\n",
       "      <td>0</td>\n",
       "      <td>3</td>\n",
       "      <td>Feller, Jimmie</td>\n",
       "      <td>male</td>\n",
       "      <td>53.00</td>\n",
       "      <td>0</td>\n",
       "      <td>0</td>\n",
       "      <td>NaN</td>\n",
       "      <td>7.92</td>\n",
       "      <td>NaN</td>\n",
       "      <td>S</td>\n",
       "    </tr>\n",
       "    <tr>\n",
       "      <th>20</th>\n",
       "      <td>20</td>\n",
       "      <td>0</td>\n",
       "      <td>3</td>\n",
       "      <td>Lim, Tiana</td>\n",
       "      <td>female</td>\n",
       "      <td>17.00</td>\n",
       "      <td>0</td>\n",
       "      <td>0</td>\n",
       "      <td>A. 38515</td>\n",
       "      <td>8.28</td>\n",
       "      <td>NaN</td>\n",
       "      <td>S</td>\n",
       "    </tr>\n",
       "    <tr>\n",
       "      <th>23</th>\n",
       "      <td>23</td>\n",
       "      <td>1</td>\n",
       "      <td>3</td>\n",
       "      <td>Brown, Pat</td>\n",
       "      <td>female</td>\n",
       "      <td>23.00</td>\n",
       "      <td>0</td>\n",
       "      <td>0</td>\n",
       "      <td>428754</td>\n",
       "      <td>7.95</td>\n",
       "      <td>NaN</td>\n",
       "      <td>Q</td>\n",
       "    </tr>\n",
       "    <tr>\n",
       "      <th>24</th>\n",
       "      <td>24</td>\n",
       "      <td>0</td>\n",
       "      <td>3</td>\n",
       "      <td>Fetterolf, Andy</td>\n",
       "      <td>male</td>\n",
       "      <td>21.00</td>\n",
       "      <td>0</td>\n",
       "      <td>0</td>\n",
       "      <td>433460</td>\n",
       "      <td>10.38</td>\n",
       "      <td>NaN</td>\n",
       "      <td>S</td>\n",
       "    </tr>\n",
       "    <tr>\n",
       "      <th>26</th>\n",
       "      <td>26</td>\n",
       "      <td>0</td>\n",
       "      <td>3</td>\n",
       "      <td>Liang, Amanda</td>\n",
       "      <td>female</td>\n",
       "      <td>26.00</td>\n",
       "      <td>0</td>\n",
       "      <td>0</td>\n",
       "      <td>A. 12030</td>\n",
       "      <td>10.24</td>\n",
       "      <td>NaN</td>\n",
       "      <td>S</td>\n",
       "    </tr>\n",
       "    <tr>\n",
       "      <th>29</th>\n",
       "      <td>29</td>\n",
       "      <td>0</td>\n",
       "      <td>3</td>\n",
       "      <td>Robinson, James</td>\n",
       "      <td>male</td>\n",
       "      <td>36.00</td>\n",
       "      <td>0</td>\n",
       "      <td>0</td>\n",
       "      <td>419996</td>\n",
       "      <td>8.60</td>\n",
       "      <td>NaN</td>\n",
       "      <td>S</td>\n",
       "    </tr>\n",
       "    <tr>\n",
       "      <th>30</th>\n",
       "      <td>30</td>\n",
       "      <td>1</td>\n",
       "      <td>3</td>\n",
       "      <td>Escareno, William</td>\n",
       "      <td>male</td>\n",
       "      <td>5.00</td>\n",
       "      <td>1</td>\n",
       "      <td>1</td>\n",
       "      <td>14288</td>\n",
       "      <td>31.35</td>\n",
       "      <td>NaN</td>\n",
       "      <td>S</td>\n",
       "    </tr>\n",
       "    <tr>\n",
       "      <th>31</th>\n",
       "      <td>31</td>\n",
       "      <td>1</td>\n",
       "      <td>3</td>\n",
       "      <td>Hollander, Richard</td>\n",
       "      <td>male</td>\n",
       "      <td>7.00</td>\n",
       "      <td>1</td>\n",
       "      <td>0</td>\n",
       "      <td>NaN</td>\n",
       "      <td>28.75</td>\n",
       "      <td>NaN</td>\n",
       "      <td>S</td>\n",
       "    </tr>\n",
       "    <tr>\n",
       "      <th>35</th>\n",
       "      <td>35</td>\n",
       "      <td>0</td>\n",
       "      <td>3</td>\n",
       "      <td>Hall, Booker</td>\n",
       "      <td>male</td>\n",
       "      <td>NaN</td>\n",
       "      <td>0</td>\n",
       "      <td>0</td>\n",
       "      <td>422605</td>\n",
       "      <td>5.77</td>\n",
       "      <td>NaN</td>\n",
       "      <td>C</td>\n",
       "    </tr>\n",
       "    <tr>\n",
       "      <th>41</th>\n",
       "      <td>41</td>\n",
       "      <td>1</td>\n",
       "      <td>3</td>\n",
       "      <td>Dixon, Ray</td>\n",
       "      <td>male</td>\n",
       "      <td>22.00</td>\n",
       "      <td>0</td>\n",
       "      <td>0</td>\n",
       "      <td>12720</td>\n",
       "      <td>6.03</td>\n",
       "      <td>NaN</td>\n",
       "      <td>S</td>\n",
       "    </tr>\n",
       "    <tr>\n",
       "      <th>44</th>\n",
       "      <td>44</td>\n",
       "      <td>0</td>\n",
       "      <td>3</td>\n",
       "      <td>Hickey, Gregory</td>\n",
       "      <td>male</td>\n",
       "      <td>NaN</td>\n",
       "      <td>1</td>\n",
       "      <td>0</td>\n",
       "      <td>11059</td>\n",
       "      <td>27.49</td>\n",
       "      <td>NaN</td>\n",
       "      <td>S</td>\n",
       "    </tr>\n",
       "    <tr>\n",
       "      <th>45</th>\n",
       "      <td>45</td>\n",
       "      <td>0</td>\n",
       "      <td>3</td>\n",
       "      <td>Gallagher, Theresa</td>\n",
       "      <td>female</td>\n",
       "      <td>68.00</td>\n",
       "      <td>0</td>\n",
       "      <td>1</td>\n",
       "      <td>SC/PARIS 11177</td>\n",
       "      <td>31.01</td>\n",
       "      <td>NaN</td>\n",
       "      <td>C</td>\n",
       "    </tr>\n",
       "    <tr>\n",
       "      <th>46</th>\n",
       "      <td>46</td>\n",
       "      <td>0</td>\n",
       "      <td>3</td>\n",
       "      <td>Bennett, Christopher</td>\n",
       "      <td>male</td>\n",
       "      <td>71.00</td>\n",
       "      <td>0</td>\n",
       "      <td>0</td>\n",
       "      <td>318079</td>\n",
       "      <td>25.60</td>\n",
       "      <td>NaN</td>\n",
       "      <td>C</td>\n",
       "    </tr>\n",
       "    <tr>\n",
       "      <th>49</th>\n",
       "      <td>49</td>\n",
       "      <td>0</td>\n",
       "      <td>3</td>\n",
       "      <td>Sohn, Shane</td>\n",
       "      <td>male</td>\n",
       "      <td>22.00</td>\n",
       "      <td>0</td>\n",
       "      <td>3</td>\n",
       "      <td>A. 440907</td>\n",
       "      <td>9.29</td>\n",
       "      <td>NaN</td>\n",
       "      <td>Q</td>\n",
       "    </tr>\n",
       "    <tr>\n",
       "      <th>55</th>\n",
       "      <td>55</td>\n",
       "      <td>0</td>\n",
       "      <td>3</td>\n",
       "      <td>Persad, Elbert</td>\n",
       "      <td>male</td>\n",
       "      <td>3.00</td>\n",
       "      <td>1</td>\n",
       "      <td>2</td>\n",
       "      <td>424265</td>\n",
       "      <td>80.84</td>\n",
       "      <td>NaN</td>\n",
       "      <td>S</td>\n",
       "    </tr>\n",
       "    <tr>\n",
       "      <th>58</th>\n",
       "      <td>58</td>\n",
       "      <td>0</td>\n",
       "      <td>3</td>\n",
       "      <td>Olsson, Aaron</td>\n",
       "      <td>male</td>\n",
       "      <td>37.00</td>\n",
       "      <td>0</td>\n",
       "      <td>0</td>\n",
       "      <td>14214</td>\n",
       "      <td>10.46</td>\n",
       "      <td>NaN</td>\n",
       "      <td>S</td>\n",
       "    </tr>\n",
       "  </tbody>\n",
       "</table>\n",
       "</div>"
      ],
      "text/plain": [
       "    PassengerId  Survived  Pclass                  Name     Sex    Age  SibSp  \\\n",
       "1             1         0       3           Bryan, Drew    male    NaN      0   \n",
       "2             2         0       3        Owens, Kenneth    male   0.33      1   \n",
       "3             3         0       3         Kramer, James    male  19.00      0   \n",
       "4             4         1       3         Bond, Michael    male  25.00      0   \n",
       "6             6         0       3          Conway, Jose    male   7.00      0   \n",
       "7             7         1       3         Werner, Linda  female   6.00      1   \n",
       "10           10         0       3      Nichols, William    male  31.00      0   \n",
       "12           12         0       3          Stewart, Pat    male  36.00      0   \n",
       "15           15         1       3        Estrada, Nancy  female  57.00      0   \n",
       "16           16         0       3        Feller, Jimmie    male  53.00      0   \n",
       "20           20         0       3            Lim, Tiana  female  17.00      0   \n",
       "23           23         1       3            Brown, Pat  female  23.00      0   \n",
       "24           24         0       3       Fetterolf, Andy    male  21.00      0   \n",
       "26           26         0       3         Liang, Amanda  female  26.00      0   \n",
       "29           29         0       3       Robinson, James    male  36.00      0   \n",
       "30           30         1       3     Escareno, William    male   5.00      1   \n",
       "31           31         1       3    Hollander, Richard    male   7.00      1   \n",
       "35           35         0       3          Hall, Booker    male    NaN      0   \n",
       "41           41         1       3            Dixon, Ray    male  22.00      0   \n",
       "44           44         0       3       Hickey, Gregory    male    NaN      1   \n",
       "45           45         0       3    Gallagher, Theresa  female  68.00      0   \n",
       "46           46         0       3  Bennett, Christopher    male  71.00      0   \n",
       "49           49         0       3           Sohn, Shane    male  22.00      0   \n",
       "55           55         0       3        Persad, Elbert    male   3.00      1   \n",
       "58           58         0       3         Olsson, Aaron    male  37.00      0   \n",
       "\n",
       "    Parch          Ticket   Fare  Cabin Embarked  \n",
       "1       0           27323  13.35    NaN        S  \n",
       "2       2       CA 457703  71.29    NaN        S  \n",
       "3       0        A. 10866  13.04    NaN        S  \n",
       "4       0          427635   7.76    NaN        S  \n",
       "6       0            A/5    9.77    NaN        S  \n",
       "7       2          434426  31.50    NaN        S  \n",
       "10      0          459690   8.06    NaN        S  \n",
       "12      0          434108   9.34  C8674        S  \n",
       "15      0       A/S 53862   9.31    NaN        S  \n",
       "16      0             NaN   7.92    NaN        S  \n",
       "20      0        A. 38515   8.28    NaN        S  \n",
       "23      0          428754   7.95    NaN        Q  \n",
       "24      0          433460  10.38    NaN        S  \n",
       "26      0        A. 12030  10.24    NaN        S  \n",
       "29      0          419996   8.60    NaN        S  \n",
       "30      1           14288  31.35    NaN        S  \n",
       "31      0             NaN  28.75    NaN        S  \n",
       "35      0          422605   5.77    NaN        C  \n",
       "41      0           12720   6.03    NaN        S  \n",
       "44      0           11059  27.49    NaN        S  \n",
       "45      1  SC/PARIS 11177  31.01    NaN        C  \n",
       "46      0          318079  25.60    NaN        C  \n",
       "49      3       A. 440907   9.29    NaN        Q  \n",
       "55      2          424265  80.84    NaN        S  \n",
       "58      0           14214  10.46    NaN        S  "
      ]
     },
     "execution_count": 28,
     "metadata": {},
     "output_type": "execute_result"
    }
   ],
   "source": [
    "analize_data[analize_data[\"Pclass\"]==3].head(25)"
   ]
  },
  {
   "cell_type": "code",
   "execution_count": 32,
   "id": "f5161444",
   "metadata": {},
   "outputs": [
    {
     "data": {
      "text/plain": [
       "PassengerId    2151\n",
       "Survived       2151\n",
       "Pclass         2151\n",
       "Name           2151\n",
       "Sex            2151\n",
       "Age            2076\n",
       "SibSp          2151\n",
       "Parch          2151\n",
       "Ticket         2105\n",
       "Fare           2147\n",
       "Cabin          2151\n",
       "Embarked       2144\n",
       "dtype: int64"
      ]
     },
     "execution_count": 32,
     "metadata": {},
     "output_type": "execute_result"
    }
   ],
   "source": [
    "analize_data[(analize_data[\"Pclass\"]==3)&((analize_data[\"Cabin\"]))].count()"
   ]
  },
  {
   "cell_type": "code",
   "execution_count": 35,
   "id": "dd0f3364",
   "metadata": {},
   "outputs": [
    {
     "data": {
      "text/plain": [
       "PassengerId    2076\n",
       "Survived       2076\n",
       "Pclass         2076\n",
       "Name           2076\n",
       "Sex            2076\n",
       "Age            2076\n",
       "SibSp          2076\n",
       "Parch          2076\n",
       "Ticket         2032\n",
       "Fare           2072\n",
       "Cabin          2076\n",
       "Embarked       2069\n",
       "dtype: int64"
      ]
     },
     "execution_count": 35,
     "metadata": {},
     "output_type": "execute_result"
    }
   ],
   "source": [
    "analize_data[(analize_data[\"Pclass\"]==3)&((analize_data[\"Cabin\"]))&((analize_data[\"Age\"]>0))].count()"
   ]
  },
  {
   "cell_type": "code",
   "execution_count": 36,
   "id": "f56e87fe",
   "metadata": {},
   "outputs": [
    {
     "data": {
      "text/html": [
       "<div>\n",
       "<style scoped>\n",
       "    .dataframe tbody tr th:only-of-type {\n",
       "        vertical-align: middle;\n",
       "    }\n",
       "\n",
       "    .dataframe tbody tr th {\n",
       "        vertical-align: top;\n",
       "    }\n",
       "\n",
       "    .dataframe thead th {\n",
       "        text-align: right;\n",
       "    }\n",
       "</style>\n",
       "<table border=\"1\" class=\"dataframe\">\n",
       "  <thead>\n",
       "    <tr style=\"text-align: right;\">\n",
       "      <th></th>\n",
       "      <th>PassengerId</th>\n",
       "      <th>Survived</th>\n",
       "      <th>Pclass</th>\n",
       "      <th>Name</th>\n",
       "      <th>Sex</th>\n",
       "      <th>Age</th>\n",
       "      <th>SibSp</th>\n",
       "      <th>Parch</th>\n",
       "      <th>Ticket</th>\n",
       "      <th>Fare</th>\n",
       "      <th>Cabin</th>\n",
       "      <th>Embarked</th>\n",
       "    </tr>\n",
       "  </thead>\n",
       "  <tbody>\n",
       "    <tr>\n",
       "      <th>12</th>\n",
       "      <td>12</td>\n",
       "      <td>0</td>\n",
       "      <td>3</td>\n",
       "      <td>Stewart, Pat</td>\n",
       "      <td>male</td>\n",
       "      <td>36.0</td>\n",
       "      <td>0</td>\n",
       "      <td>0</td>\n",
       "      <td>434108</td>\n",
       "      <td>9.34</td>\n",
       "      <td>C8674</td>\n",
       "      <td>S</td>\n",
       "    </tr>\n",
       "    <tr>\n",
       "      <th>94</th>\n",
       "      <td>94</td>\n",
       "      <td>1</td>\n",
       "      <td>3</td>\n",
       "      <td>Level, Tammara</td>\n",
       "      <td>female</td>\n",
       "      <td>59.0</td>\n",
       "      <td>0</td>\n",
       "      <td>0</td>\n",
       "      <td>10156</td>\n",
       "      <td>24.93</td>\n",
       "      <td>C11610</td>\n",
       "      <td>C</td>\n",
       "    </tr>\n",
       "    <tr>\n",
       "      <th>165</th>\n",
       "      <td>165</td>\n",
       "      <td>1</td>\n",
       "      <td>3</td>\n",
       "      <td>Troxel, Barbara</td>\n",
       "      <td>female</td>\n",
       "      <td>62.0</td>\n",
       "      <td>0</td>\n",
       "      <td>0</td>\n",
       "      <td>440065</td>\n",
       "      <td>30.29</td>\n",
       "      <td>F2767</td>\n",
       "      <td>C</td>\n",
       "    </tr>\n",
       "    <tr>\n",
       "      <th>170</th>\n",
       "      <td>170</td>\n",
       "      <td>1</td>\n",
       "      <td>3</td>\n",
       "      <td>Mahr, Patsy</td>\n",
       "      <td>female</td>\n",
       "      <td>29.0</td>\n",
       "      <td>0</td>\n",
       "      <td>0</td>\n",
       "      <td>345263</td>\n",
       "      <td>28.06</td>\n",
       "      <td>E7752</td>\n",
       "      <td>C</td>\n",
       "    </tr>\n",
       "    <tr>\n",
       "      <th>232</th>\n",
       "      <td>232</td>\n",
       "      <td>1</td>\n",
       "      <td>3</td>\n",
       "      <td>Plowden, Joni</td>\n",
       "      <td>female</td>\n",
       "      <td>28.0</td>\n",
       "      <td>0</td>\n",
       "      <td>0</td>\n",
       "      <td>26696</td>\n",
       "      <td>29.88</td>\n",
       "      <td>D9019</td>\n",
       "      <td>C</td>\n",
       "    </tr>\n",
       "  </tbody>\n",
       "</table>\n",
       "</div>"
      ],
      "text/plain": [
       "     PassengerId  Survived  Pclass             Name     Sex   Age  SibSp  \\\n",
       "12            12         0       3     Stewart, Pat    male  36.0      0   \n",
       "94            94         1       3   Level, Tammara  female  59.0      0   \n",
       "165          165         1       3  Troxel, Barbara  female  62.0      0   \n",
       "170          170         1       3      Mahr, Patsy  female  29.0      0   \n",
       "232          232         1       3    Plowden, Joni  female  28.0      0   \n",
       "\n",
       "     Parch  Ticket   Fare   Cabin Embarked  \n",
       "12       0  434108   9.34   C8674        S  \n",
       "94       0   10156  24.93  C11610        C  \n",
       "165      0  440065  30.29   F2767        C  \n",
       "170      0  345263  28.06   E7752        C  \n",
       "232      0   26696  29.88   D9019        C  "
      ]
     },
     "execution_count": 36,
     "metadata": {},
     "output_type": "execute_result"
    }
   ],
   "source": [
    "analize_data[(analize_data[\"Pclass\"]==3)&((analize_data[\"Cabin\"]))&((analize_data[\"Age\"]>0))].head()\n"
   ]
  },
  {
   "cell_type": "code",
   "execution_count": 37,
   "id": "9454244c",
   "metadata": {},
   "outputs": [
    {
     "data": {
      "text/plain": [
       "0.17"
      ]
     },
     "execution_count": 37,
     "metadata": {},
     "output_type": "execute_result"
    }
   ],
   "source": [
    "analize_data[(analize_data[\"Pclass\"]==3)&((analize_data[\"Cabin\"]))&((analize_data[\"Age\"]>0))]['Age'].min()"
   ]
  },
  {
   "cell_type": "code",
   "execution_count": 38,
   "id": "882b216b",
   "metadata": {},
   "outputs": [
    {
     "data": {
      "text/plain": [
       "85.0"
      ]
     },
     "execution_count": 38,
     "metadata": {},
     "output_type": "execute_result"
    }
   ],
   "source": [
    "analize_data[(analize_data[\"Pclass\"]==3)&((analize_data[\"Cabin\"]))&((analize_data[\"Age\"]>0))]['Age'].max()"
   ]
  },
  {
   "cell_type": "code",
   "execution_count": 39,
   "id": "df12101e",
   "metadata": {},
   "outputs": [
    {
     "data": {
      "text/plain": [
       "39.441594412331405"
      ]
     },
     "execution_count": 39,
     "metadata": {},
     "output_type": "execute_result"
    }
   ],
   "source": [
    "analize_data[(analize_data[\"Pclass\"]==3)&((analize_data[\"Cabin\"]))&((analize_data[\"Age\"]>0))]['Age'].mean()"
   ]
  },
  {
   "cell_type": "code",
   "execution_count": null,
   "id": "ea5f730a",
   "metadata": {},
   "outputs": [],
   "source": []
  }
 ],
 "metadata": {
  "kernelspec": {
   "display_name": "Python 3 (ipykernel)",
   "language": "python",
   "name": "python3"
  },
  "language_info": {
   "codemirror_mode": {
    "name": "ipython",
    "version": 3
   },
   "file_extension": ".py",
   "mimetype": "text/x-python",
   "name": "python",
   "nbconvert_exporter": "python",
   "pygments_lexer": "ipython3",
   "version": "3.9.7"
  }
 },
 "nbformat": 4,
 "nbformat_minor": 5
}
